{
  "nbformat": 4,
  "nbformat_minor": 0,
  "metadata": {
    "colab": {
      "provenance": [],
      "mount_file_id": "15Tt06ODKDxldTMIDmiezhlgCrSGkizKX",
      "authorship_tag": "ABX9TyMPY9bZ5bS4ZV8r3au+g5xE",
      "include_colab_link": true
    },
    "kernelspec": {
      "name": "python3",
      "display_name": "Python 3"
    },
    "language_info": {
      "name": "python"
    }
  },
  "cells": [
    {
      "cell_type": "markdown",
      "metadata": {
        "id": "view-in-github",
        "colab_type": "text"
      },
      "source": [
        "<a href=\"https://colab.research.google.com/github/LeeTaylor-git/CIS606-Week-1-Lecture-1-PA/blob/main/TLEE_DEMO_FA25.ipynb\" target=\"_parent\"><img src=\"https://colab.research.google.com/assets/colab-badge.svg\" alt=\"Open In Colab\"/></a>"
      ]
    },
    {
      "cell_type": "code",
      "execution_count": 2,
      "metadata": {
        "id": "wmVYaAX4Obdb",
        "colab": {
          "base_uri": "https://localhost:8080/"
        },
        "outputId": "434c465b-901e-461b-d33a-ac4805f49594"
      },
      "outputs": [
        {
          "output_type": "stream",
          "name": "stdout",
          "text": [
            "Excited to be in CIS 606!\n"
          ]
        }
      ],
      "source": [
        "print(\"Excited to be in CIS 606!\")"
      ]
    },
    {
      "cell_type": "markdown",
      "source": [
        "Taylor Lee\n",
        "C836136309"
      ],
      "metadata": {
        "id": "p87FWI0Vju0P"
      }
    }
  ]
}