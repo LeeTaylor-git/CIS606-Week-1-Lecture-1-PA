{
  "nbformat": 4,
  "nbformat_minor": 0,
  "metadata": {
    "colab": {
      "provenance": [],
      "mount_file_id": "15Tt06ODKDxldTMIDmiezhlgCrSGkizKX",
      "authorship_tag": "ABX9TyOBv3Mh19qzUdZ0eZvrVjc6",
      "include_colab_link": true
    },
    "kernelspec": {
      "name": "python3",
      "display_name": "Python 3"
    },
    "language_info": {
      "name": "python"
    }
  },
  "cells": [
    {
      "cell_type": "markdown",
      "metadata": {
        "id": "view-in-github",
        "colab_type": "text"
      },
      "source": [
        "<a href=\"https://colab.research.google.com/github/LeeTaylor-git/CIS606-Week-1-Lecture-1-PA/blob/main/TLEE_DEMO_FA25.ipynb\" target=\"_parent\"><img src=\"https://colab.research.google.com/assets/colab-badge.svg\" alt=\"Open In Colab\"/></a>"
      ]
    },
    {
      "cell_type": "code",
      "execution_count": null,
      "metadata": {
        "id": "wmVYaAX4Obdb"
      },
      "outputs": [],
      "source": [
        "print(\"Excited to be in CIS 606!\")\n",
        "print(\"commit test 1\")"
      ]
    },
    {
      "cell_type": "markdown",
      "source": [
        "Taylor Lee\n",
        "C836136309"
      ],
      "metadata": {
        "id": "p87FWI0Vju0P"
      }
    }
  ]
}